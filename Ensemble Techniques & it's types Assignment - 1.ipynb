{
 "cells": [
  {
   "cell_type": "markdown",
   "metadata": {},
   "source": [
    "### Q1. What is an ensemble technique in machine learning?"
   ]
  },
  {
   "cell_type": "code",
   "execution_count": null,
   "metadata": {},
   "outputs": [],
   "source": [
    "\"\"\"\n",
    "An ensemble technique in machine learning involves combining multiple individual models to create a stronger predictive model. \n",
    "These individual models can be of the same type (e.g., decision trees) or different types (e.g., decision trees, support vector machines, \n",
    "neural networks). Ensemble techniques aim to improve the overall performance and generalization of the model by leveraging the diversity \n",
    "of predictions made by individual models.\n",
    "\n",
    "\"\"\""
   ]
  },
  {
   "cell_type": "markdown",
   "metadata": {},
   "source": [
    "### Q2. Why are ensemble techniques used in machine learning?"
   ]
  },
  {
   "cell_type": "code",
   "execution_count": null,
   "metadata": {},
   "outputs": [],
   "source": [
    "\"\"\"\n",
    "\n",
    "Ensemble techniques are used in machine learning for several reasons:\n",
    "\n",
    "They can improve predictive performance by reducing overfitting and variance.\n",
    "They can increase the robustness of the model by capturing different aspects of the data.\n",
    "They can handle complex relationships in the data more effectively by combining multiple models.\n",
    "They are often more reliable and less sensitive to noise in the data compared to individual models.\n",
    "\n",
    "\"\"\""
   ]
  },
  {
   "cell_type": "markdown",
   "metadata": {},
   "source": [
    "### Q3. What is bagging?"
   ]
  },
  {
   "cell_type": "code",
   "execution_count": null,
   "metadata": {},
   "outputs": [],
   "source": [
    "\"\"\"\n",
    "Bagging (Bootstrap Aggregating) is a technique used in ensemble learning where multiple copies of a \n",
    "base model are trained on different subsets of the training data. Each subset is sampled with replacement \n",
    "(bootstrap sampling), and the final prediction is typically obtained by averaging the \n",
    "predictions of all base models (for regression) or by taking a majority vote (for classification).\n",
    "\n",
    "\"\"\""
   ]
  },
  {
   "cell_type": "markdown",
   "metadata": {},
   "source": [
    "### Q4. What is boosting?"
   ]
  },
  {
   "cell_type": "code",
   "execution_count": null,
   "metadata": {},
   "outputs": [],
   "source": [
    "\"\"\"\n",
    "Boosting is another ensemble technique where multiple weak learners (models that perform slightly better than random guessing) \n",
    "are combined to form a strong learner. Unlike bagging, boosting trains the models sequentially, where each subsequent model focuses \n",
    "more on the examples that the previous models misclassified. Common boosting algorithms include AdaBoost, Gradient Boosting, and XGBoost.\n",
    "\n",
    "\"\"\""
   ]
  },
  {
   "cell_type": "markdown",
   "metadata": {},
   "source": [
    "### Q5. What are the benefits of using ensemble techniques?"
   ]
  },
  {
   "cell_type": "code",
   "execution_count": null,
   "metadata": {},
   "outputs": [],
   "source": [
    "\"\"\"\n",
    "\n",
    " The benefits of using ensemble techniques include:\n",
    "\n",
    "Improved predictive performance and generalization.\n",
    "Increased robustness to noise and outliers in the data.\n",
    "Better handling of complex relationships and interactions in the data.\n",
    "Reduced risk of overfitting and variance.\n",
    "Flexibility to combine different types of models for better results.\n",
    "\n",
    "\"\"\""
   ]
  },
  {
   "cell_type": "markdown",
   "metadata": {},
   "source": [
    "### Q6. Are ensemble techniques always better than individual models?"
   ]
  },
  {
   "cell_type": "code",
   "execution_count": null,
   "metadata": {},
   "outputs": [],
   "source": [
    "\"\"\"\n",
    "While ensemble techniques often outperform individual models, they are not always guaranteed to do so. \n",
    "The effectiveness of ensemble techniques depends on factors such as the diversity of the base models, \n",
    "the quality of the individual models, and the nature of the data. \n",
    "In some cases, a single well-tuned model may perform just as well as or even better than an ensemble.\n",
    "\n",
    "\n",
    "\"\"\""
   ]
  },
  {
   "cell_type": "markdown",
   "metadata": {},
   "source": [
    "### Q7. How is the confidence interval calculated using bootstrap?"
   ]
  },
  {
   "cell_type": "code",
   "execution_count": null,
   "metadata": {},
   "outputs": [],
   "source": [
    "\"\"\"\n",
    "\n",
    "The confidence interval using bootstrap is calculated by resampling the dataset with replacement multiple times, \n",
    "calculating the statistic of interest (e.g., mean, median) for each resampled dataset, and then determining the \n",
    "range of values that contains a specified proportion of the bootstrap sample distribution. Typically, \n",
    "the percentile method is used to compute the confidence interval, where the lower and upper bounds are determined \n",
    "by the desired percentile values (e.g., 2.5th and 97.5th percentiles for a 95% confidence interval).\n",
    "\n",
    "\"\"\""
   ]
  },
  {
   "cell_type": "markdown",
   "metadata": {},
   "source": [
    "### Q8. How does bootstrap work and What are the steps involved in bootstrap?"
   ]
  },
  {
   "cell_type": "code",
   "execution_count": null,
   "metadata": {},
   "outputs": [],
   "source": [
    "\"\"\"\n",
    "Bootstrap is a resampling technique used to estimate the sampling distribution of a statistic by repeatedly sampling from the observed data with replacement. The steps involved in bootstrap are as follows:\n",
    "\n",
    "Randomly draw a sample (with replacement) from the observed data to create a bootstrap sample.\n",
    "Calculate the statistic of interest (e.g., mean, median) for the bootstrap sample.\n",
    "Repeat steps 1 and 2 a large number of times (e.g., 1000 or more) to create multiple bootstrap samples and obtain a distribution of the statistic.\n",
    "Compute the desired confidence interval using the distribution of the statistic, typically using the percentile method.\n",
    "\n",
    "\n",
    "\"\"\""
   ]
  },
  {
   "cell_type": "markdown",
   "metadata": {},
   "source": [
    "### Q9. A researcher wants to estimate the mean height of a population of trees. They measure the height of a sample of 50 trees and obtain a mean height of 15 meters and a standard deviation of 2 meters. Use bootstrap to estimate the 95% confidence interval for the population mean height."
   ]
  },
  {
   "cell_type": "code",
   "execution_count": null,
   "metadata": {},
   "outputs": [],
   "source": [
    "\"\"\"\n",
    "To estimate the 95% confidence interval for the population mean height using bootstrap:\n",
    "\n",
    "Use the sample mean (15 meters) and standard deviation (2 meters) as estimates of the population parameters.\n",
    "Generate multiple bootstrap samples by resampling with replacement from the observed sample of 50 tree heights.\n",
    "Calculate the mean height for each bootstrap sample.\n",
    "Compute the 2.5th and 97.5th percentiles of the bootstrap sample distribution to determine the lower and upper bounds of the confidence interval.\n",
    "The resulting range will represent the 95% confidence interval for the population mean height.\n",
    "\n",
    "\n",
    "\"\"\""
   ]
  }
 ],
 "metadata": {
  "language_info": {
   "name": "python"
  }
 },
 "nbformat": 4,
 "nbformat_minor": 2
}
